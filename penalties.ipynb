{
  "nbformat": 4,
  "nbformat_minor": 0,
  "metadata": {
    "colab": {
      "provenance": []
    },
    "kernelspec": {
      "name": "python3",
      "display_name": "Python 3"
    },
    "language_info": {
      "name": "python"
    }
  },
  "cells": [
    {
      "cell_type": "code",
      "metadata": {
        "id": "-O0gK9eX8RaD"
      },
      "source": [
        "import tensorflow as tf\n",
        "\n",
        "def RPCA_thr_p(input_, a, b, c, d):\n",
        "  # return soft_thr(input_,theta_)(gamma/(gamma-1)) - soft_thr(input_,T)(1/(gamma-1))\n",
        "  return -tf.nn.relu(-input_-a)+tf.nn.relu(input_-d)+tf.nn.relu(input_+b)-tf.nn.relu(input_-c)\n",
        "\n",
        "def RPCA_thr_n(input_, a, b, c, d):\n",
        "  return tf.nn.relu(input_-a)-tf.nn.relu(-input_-d)-tf.nn.relu(-input_+b)+tf.nn.relu(-input_-c)\n",
        "\n",
        "\n",
        "\n",
        "def soft_thr(input_, theta_):\n",
        "    return tf.nn.relu(input_-theta_)-tf.nn.relu(-input_-theta_)\n",
        "\n",
        "def firm_thr(input_, theta_, gamma):\n",
        "  T = theta_*gamma\n",
        "  # return soft_thr(input_,theta_)(gamma/(gamma-1)) - soft_thr(input_,T)(1/(gamma-1))\n",
        "  return (1/(gamma-1))*tf.nn.relu(-input_-T)-(gamma/(gamma-1))*tf.nn.relu(-input_-theta_)+(gamma/(gamma-1))*tf.nn.relu(input_-theta_)-(1/(gamma-1))*tf.nn.relu(input_-T)\n",
        "\n",
        "# def scad(input_, theta_, gamma):\n"
      ],
      "execution_count": null,
      "outputs": []
    },
    {
      "cell_type": "code",
      "metadata": {
        "colab": {
          "base_uri": "https://localhost:8080/"
        },
        "id": "4KGOqBnhMXj8",
        "outputId": "32866775-6d4a-43ed-fb2c-a8974fa85352"
      },
      "source": [
        "import numpy as np\n",
        "x = tf.linspace(-1000,1001,2001)\n",
        "print(x.shape)\n",
        "y = np.array([x,x,x,x,x,x,x,x,x,x]).T\n",
        "print(y.shape)\n",
        "# f = soft_thr(x,250)\n",
        "# firm = firm_thr(x,250,2)\n",
        "RPCA_p = RPCA_thr_p(y,500,300,100,500)\n",
        "RPCA_n = RPCA_thr_n(y,500,300,100,500)\n",
        "print(RPCA_p)\n",
        "print(RPCA_n)"
      ],
      "execution_count": null,
      "outputs": [
        {
          "output_type": "stream",
          "text": [
            "(2001,)\n",
            "(2001, 10)\n",
            "tf.Tensor(\n",
            "[[-500.     -500.     -500.     ... -500.     -500.     -500.    ]\n",
            " [-498.9995 -498.9995 -498.9995 ... -498.9995 -498.9995 -498.9995]\n",
            " [-497.999  -497.999  -497.999  ... -497.999  -497.999  -497.999 ]\n",
            " ...\n",
            " [ 898.999   898.999   898.999  ...  898.999   898.999   898.999 ]\n",
            " [ 899.9995  899.9995  899.9995 ...  899.9995  899.9995  899.9995]\n",
            " [ 901.      901.      901.     ...  901.      901.      901.    ]], shape=(2001, 10), dtype=float64)\n",
            "tf.Tensor(\n",
            "[[-900.     -900.     -900.     ... -900.     -900.     -900.    ]\n",
            " [-898.9995 -898.9995 -898.9995 ... -898.9995 -898.9995 -898.9995]\n",
            " [-897.999  -897.999  -897.999  ... -897.999  -897.999  -897.999 ]\n",
            " ...\n",
            " [ 498.999   498.999   498.999  ...  498.999   498.999   498.999 ]\n",
            " [ 499.9995  499.9995  499.9995 ...  499.9995  499.9995  499.9995]\n",
            " [ 501.      501.      501.     ...  501.      501.      501.    ]], shape=(2001, 10), dtype=float64)\n"
          ],
          "name": "stdout"
        }
      ]
    },
    {
      "cell_type": "code",
      "metadata": {
        "colab": {
          "base_uri": "https://localhost:8080/",
          "height": 513
        },
        "id": "4LW8GDNAMz1Y",
        "outputId": "fea3046d-d58f-42c7-c664-6480c54430ae"
      },
      "source": [
        "from matplotlib import pyplot as plt\n",
        "plt.figure()\n",
        "plt.plot(x,RPCA_p[:,9])\n",
        "plt.figure()\n",
        "plt.plot(x,RPCA_n[:,2])\n",
        "plt.show()"
      ],
      "execution_count": null,
      "outputs": [
        {
          "output_type": "display_data",
          "data": {
            "image/png": "[encoded data removed]",
            "text/plain": [
              "<Figure size 432x288 with 1 Axes>"
            ]
          },
          "metadata": {
            "tags": [],
            "needs_background": "light"
          }
        },
        {
          "output_type": "display_data",
          "data": {
            "image/png": "[encoded data removed]",
            "text/plain": [
              "<Figure size 432x288 with 1 Axes>"
            ]
          },
          "metadata": {
            "tags": [],
            "needs_background": "light"
          }
        }
      ]
    },
    {
      "cell_type": "code",
      "metadata": {
        "id": "bl8FFvCFFCBi"
      },
      "source": [
        "def refRPCA(M,P,Q,H1,H2,l1,l2,l3,c,d):\n",
        "  for k in range(d):\n",
        "    L_tilda_k = (tf.eye(n) - (1/c)*tf.transpose(H1)@H1)@L_k - tf.transpose(H1)@H2@S_k + tf.transpose(H1)@M\n",
        "    S_tilda_k = (tf.eye(n) - (1/c)*tf.transpose(H2)@H2)@S_k - tf.transpose(H2)@H1@L_k + tf.transpose(H2)@M\n",
        "    L_k_1 = soft_thr(L_tilda_k, l1/c)\n",
        "    Sp = [s1_k, Ps1_k, .... , Psm_1_k]\n",
        "    S_k_1 = RPCA_thr(S_tilda_k, l2/c, l3/c, q, Sp)\n",
        "    L_k = L_k_1\n",
        "    S_k = S_k_1\n",
        ""
      ],
      "execution_count": null,
      "outputs": []
    }
  ]
}